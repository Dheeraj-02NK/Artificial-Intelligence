{
 "cells": [
  {
   "cell_type": "markdown",
   "id": "07f0176d",
   "metadata": {},
   "source": [
    "#### 5. Implementation of TSP using heuristic approach"
   ]
  },
  {
   "cell_type": "code",
   "execution_count": 6,
   "id": "3d452f9c",
   "metadata": {},
   "outputs": [
    {
     "name": "stdout",
     "output_type": "stream",
     "text": [
      "80\n"
     ]
    }
   ],
   "source": [
    "from sys import maxsize\n",
    "from itertools import permutations\n",
    "\n",
    "V = 4\n",
    "\n",
    "# Implementation of the Traveling Salesman Problem\n",
    "def travellingSalesmanProblem(graph, s):\n",
    "    # Store all vertices apart from the source vertex\n",
    "    vertex = []\n",
    "    for i in range(V):\n",
    "        if i != s:\n",
    "            vertex.append(i)\n",
    "    \n",
    "    # Store minimum weight\n",
    "    min_path = maxsize\n",
    "    next_permutation = permutations(vertex)\n",
    "    for i in next_permutation:\n",
    "        current_pathweight = 0\n",
    "        k = s\n",
    "        # Compute current path weight\n",
    "        for j in i:\n",
    "            current_pathweight += graph[k][j]\n",
    "            k = j\n",
    "        current_pathweight += graph[k][s]\n",
    "        \n",
    "        # Update minimum path\n",
    "        min_path = min(min_path, current_pathweight)\n",
    "    \n",
    "    return min_path\n",
    "\n",
    "# Driver Code\n",
    "if __name__ == \"__main__\":\n",
    "    # Matrix representation of the graph\n",
    "    graph = [[0, 10, 15, 20], [10, 0, 35, 25], [15, 35, 0, 30], [20, 25, 30, 0]]\n",
    "    s = 0\n",
    "    print(travellingSalesmanProblem(graph, s))"
   ]
  },
  {
   "cell_type": "code",
   "execution_count": null,
   "id": "9646ac3c",
   "metadata": {},
   "outputs": [],
   "source": []
  }
 ],
 "metadata": {
  "kernelspec": {
   "display_name": "Python 3 (ipykernel)",
   "language": "python",
   "name": "python3"
  },
  "language_info": {
   "codemirror_mode": {
    "name": "ipython",
    "version": 3
   },
   "file_extension": ".py",
   "mimetype": "text/x-python",
   "name": "python",
   "nbconvert_exporter": "python",
   "pygments_lexer": "ipython3",
   "version": "3.9.13"
  }
 },
 "nbformat": 4,
 "nbformat_minor": 5
}
