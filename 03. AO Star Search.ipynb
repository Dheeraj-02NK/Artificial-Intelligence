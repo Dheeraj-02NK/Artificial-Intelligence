{
 "cells": [
  {
   "cell_type": "markdown",
   "id": "85f83200",
   "metadata": {},
   "source": [
    "#### 3. Implement AO* Search algorithm"
   ]
  },
  {
   "cell_type": "code",
   "execution_count": 2,
   "id": "dcba9515",
   "metadata": {},
   "outputs": [
    {
     "name": "stdout",
     "output_type": "stream",
     "text": [
      "Collecting heuristicsearch\n",
      "  Using cached heuristicsearch-0.1.1-py3-none-any.whl (5.5 kB)\n",
      "Installing collected packages: heuristicsearch\n",
      "Successfully installed heuristicsearch-0.1.1\n"
     ]
    }
   ],
   "source": [
    "!pip install heuristicsearch"
   ]
  },
  {
   "cell_type": "code",
   "execution_count": 3,
   "id": "3eb86ce2",
   "metadata": {},
   "outputs": [
    {
     "name": "stdout",
     "output_type": "stream",
     "text": [
      "Graph-A\n",
      "PROCESSING NODE : A\n",
      "-----------------------------------------------------------------------------------------\n",
      "8 ['B']\n",
      "\n",
      "PROCESSING NODE : B\n",
      "-----------------------------------------------------------------------------------------\n",
      "7 ['E']\n",
      "\n",
      "PROCESSING NODE : A\n",
      "-----------------------------------------------------------------------------------------\n",
      "10 ['C', 'D']\n",
      "\n",
      "PROCESSING NODE : E\n",
      "-----------------------------------------------------------------------------------------\n",
      "0 []\n",
      "\n",
      "PROCESSING NODE : B\n",
      "-----------------------------------------------------------------------------------------\n",
      "1 ['E']\n",
      "\n",
      "PROCESSING NODE : A\n",
      "-----------------------------------------------------------------------------------------\n",
      "5 ['B']\n",
      "\n",
      "FOR THE SOLUTION, TRAVERSE THE GRAPH FROM THE START NODE: A\n",
      "------------------------------------------------------------\n",
      "{'E': [], 'B': ['E'], 'A': ['B']}\n",
      "------------------------------------------------------------\n"
     ]
    }
   ],
   "source": [
    "from heuristicsearch.ao_star import AOStar\n",
    "print('Graph-A')\n",
    "adj_list={\n",
    "    'A':[[('C',2),('D',3)],[('B',4)]],\n",
    "    'B':[[('E',1)],[('F',4)]],\n",
    "    'C':[[('G',3)],[('H',2),('I',3)]],\n",
    "    'D':[[('J',3)]]\n",
    "}\n",
    "Heuristic={\n",
    "    'A': -1,\n",
    "    'B': 4,\n",
    "    'C': 2,\n",
    "    'D': 3,\n",
    "    'E': 6,\n",
    "    'F': 8,\n",
    "    'G': 2,\n",
    "    'H': 0,\n",
    "    'I': 0,\n",
    "    'J': 0\n",
    "}\n",
    "graph=AOStar(adj_list,Heuristic,'A')\n",
    "graph.applyAOStar()"
   ]
  },
  {
   "cell_type": "code",
   "execution_count": null,
   "id": "643dddad",
   "metadata": {},
   "outputs": [],
   "source": []
  }
 ],
 "metadata": {
  "kernelspec": {
   "display_name": "Python 3 (ipykernel)",
   "language": "python",
   "name": "python3"
  },
  "language_info": {
   "codemirror_mode": {
    "name": "ipython",
    "version": 3
   },
   "file_extension": ".py",
   "mimetype": "text/x-python",
   "name": "python",
   "nbconvert_exporter": "python",
   "pygments_lexer": "ipython3",
   "version": "3.9.13"
  }
 },
 "nbformat": 4,
 "nbformat_minor": 5
}
