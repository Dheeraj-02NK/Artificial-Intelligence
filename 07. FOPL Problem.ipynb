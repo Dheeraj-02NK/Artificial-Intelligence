{
 "cells": [
  {
   "cell_type": "markdown",
   "id": "7f4dcc17",
   "metadata": {},
   "source": [
    "#### 7. Implement resolution principle on FOPL related problems"
   ]
  },
  {
   "cell_type": "code",
   "execution_count": 1,
   "id": "ce1ae01d",
   "metadata": {},
   "outputs": [
    {
     "name": "stdout",
     "output_type": "stream",
     "text": [
      "parts: ['(A ', ' B) ', ' B']\n",
      "dnf_parts: [None, None, None]\n",
      "(A  or  B)  or  B\n"
     ]
    }
   ],
   "source": [
    "import re\n",
    "def dnf(formula): \n",
    "    if re.fullmatch(r'[A-Z]|~[A-Z]|()\"\"', formula):\n",
    "        return formula\n",
    "    if 'and' in formula or 'or' in formula:\n",
    "        parts = re.split(r'(?<=[^\\w])or(?=[^\\w])|(?<=[^\\w])and(?=[^\\w])', formula)\n",
    "        print(f\"parts: {parts}\")\n",
    "        dnf_parts = [dnf(part) for part in parts]\n",
    "        print(f\"dnf_parts: {dnf_parts}\")\n",
    "        if 'or' in formula:\n",
    "            return \" or \".join(parts)\n",
    "        elif 'and' in formula:\n",
    "            return \" and \".join(parts)\n",
    "# Example usage\n",
    "formula = \"(A and B) or B\"\n",
    "dnf_formula = dnf(formula)\n",
    "print(dnf_formula) # Outputs: \"A or C or B or D or\""
   ]
  },
  {
   "cell_type": "code",
   "execution_count": 2,
   "id": "74f9622d",
   "metadata": {},
   "outputs": [
    {
     "name": "stdout",
     "output_type": "stream",
     "text": [
      "(A and B) or (C and D)\n"
     ]
    }
   ],
   "source": [
    "import re\n",
    "def cnf(formula):\n",
    "    if re.fullmatch(r'[A-Z]|~[A-Z]', formula):\n",
    "        return formula\n",
    "    if 'and' in formula or 'or' in formula:\n",
    "        parts = re.split(r'(?<=\\()or(?=\\))|(?<=\\()and(?=\\))', formula)\n",
    "        if 'and' in formula:\n",
    "            return \" and \".join(parts)\n",
    "        elif 'or' in formula:\n",
    "            return \" or \".join(parts)\n",
    "# Example usage\n",
    "formula = \"(A and B) or (C and D)\"\n",
    "cnf_formula = cnf(formula)\n",
    "print(cnf_formula) # Outputs: \"A and B or C and D or\""
   ]
  },
  {
   "cell_type": "code",
   "execution_count": null,
   "id": "9469372f",
   "metadata": {},
   "outputs": [],
   "source": []
  }
 ],
 "metadata": {
  "kernelspec": {
   "display_name": "Python 3 (ipykernel)",
   "language": "python",
   "name": "python3"
  },
  "language_info": {
   "codemirror_mode": {
    "name": "ipython",
    "version": 3
   },
   "file_extension": ".py",
   "mimetype": "text/x-python",
   "name": "python",
   "nbconvert_exporter": "python",
   "pygments_lexer": "ipython3",
   "version": "3.9.13"
  }
 },
 "nbformat": 4,
 "nbformat_minor": 5
}
