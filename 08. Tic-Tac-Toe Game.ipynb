{
 "cells": [
  {
   "cell_type": "markdown",
   "id": "8b46bfac",
   "metadata": {},
   "source": [
    "#### 8. Implement any Game and demonstrate the Game playing strategies"
   ]
  },
  {
   "cell_type": "code",
   "execution_count": 1,
   "id": "1ccb8f95",
   "metadata": {},
   "outputs": [
    {
     "name": "stdout",
     "output_type": "stream",
     "text": [
      "  0 1 2\n",
      "0      \n",
      "1      \n",
      "2      \n",
      "X, enter column: 0\n",
      "X, enter row: 0\n",
      "  0 1 2\n",
      "0 X    \n",
      "1      \n",
      "2      \n",
      "O, enter column: 0\n",
      "O, enter row: 1\n",
      "  0 1 2\n",
      "0 X    \n",
      "1 O    \n",
      "2      \n",
      "X, enter column: 1\n",
      "X, enter row: 1\n",
      "  0 1 2\n",
      "0 X    \n",
      "1 O X  \n",
      "2      \n",
      "O, enter column: 1\n",
      "O, enter row: 2\n",
      "  0 1 2\n",
      "0 X    \n",
      "1 O X  \n",
      "2   O  \n",
      "X, enter column: 2\n",
      "X, enter row: 2\n",
      "X wins!\n"
     ]
    }
   ],
   "source": [
    "#Tic-tac Program\n",
    "board = [[\" \" for _ in range(3)] for _ in range(3)]\n",
    "\n",
    "def draw_board():\n",
    "    print(\"  0 1 2\")\n",
    "    for i, row in enumerate(board):\n",
    "        print(i, \" \".join(row))\n",
    "\n",
    "def get_move(player):\n",
    "    while True:\n",
    "        col = input(f\"{player}, enter column: \")\n",
    "        row = input(f\"{player}, enter row: \")\n",
    "        if col.isdigit() and row.isdigit():\n",
    "            col, row = int(col), int(row)\n",
    "            if 0 <= col < 3 and 0 <= row < 3:\n",
    "                if board[row][col] == \" \":\n",
    "                    board[row][col] = player\n",
    "                    return\n",
    "                else:\n",
    "                    print(\"That space is already occupied. Try again.\")\n",
    "            else:\n",
    "                print(\"Invalid move. Try again.\")\n",
    "        else:\n",
    "            print(\"Invalid input. Try again.\")\n",
    "\n",
    "def has_winner():\n",
    "    for row in board:\n",
    "        if row[0] == row[1] == row[2] and row[0] != \" \":\n",
    "            return True\n",
    "    for col in range(3):\n",
    "        if board[0][col] == board[1][col] == board[2][col] and board[0][col] != \" \":\n",
    "            return True\n",
    "        if board[0][0] == board[1][1] == board[2][2] and board[0][0] != \" \":\n",
    "            return True\n",
    "        if board[2][0] == board[1][1] == board[0][2] and board[2][0] != \" \":\n",
    "            return True\n",
    "    return False\n",
    "\n",
    "def main():\n",
    "    while True:\n",
    "        draw_board()\n",
    "        get_move(\"X\")\n",
    "        if has_winner():\n",
    "            print(\"X wins!\")\n",
    "            break\n",
    "        draw_board()\n",
    "        get_move(\"O\")\n",
    "        if has_winner():\n",
    "            print(\"O wins!\")\n",
    "            break\n",
    "\n",
    "main()"
   ]
  },
  {
   "cell_type": "code",
   "execution_count": null,
   "id": "3e359326",
   "metadata": {},
   "outputs": [],
   "source": []
  }
 ],
 "metadata": {
  "kernelspec": {
   "display_name": "Python 3 (ipykernel)",
   "language": "python",
   "name": "python3"
  },
  "language_info": {
   "codemirror_mode": {
    "name": "ipython",
    "version": 3
   },
   "file_extension": ".py",
   "mimetype": "text/x-python",
   "name": "python",
   "nbconvert_exporter": "python",
   "pygments_lexer": "ipython3",
   "version": "3.9.13"
  }
 },
 "nbformat": 4,
 "nbformat_minor": 5
}
