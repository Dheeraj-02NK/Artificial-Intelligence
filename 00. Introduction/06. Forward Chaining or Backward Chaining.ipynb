{
 "cells": [
  {
   "cell_type": "markdown",
   "id": "40003f47",
   "metadata": {},
   "source": [
    "#### 6. Implementation of the problem solving strategies: either using Forward Chaining or Backward Chaining"
   ]
  },
  {
   "cell_type": "markdown",
   "id": "61840c5c",
   "metadata": {},
   "source": [
    "##### A. Forward Chaining"
   ]
  },
  {
   "cell_type": "code",
   "execution_count": 1,
   "id": "fbcb7b8c",
   "metadata": {},
   "outputs": [
    {
     "name": "stdout",
     "output_type": "stream",
     "text": [
      "[['sing', 'canary'], ['canary', 'yellow']]\n"
     ]
    }
   ],
   "source": [
    "factskw=[['croaks', 'frog'],['eats flies','frog'],['frog','green'],['chirps','canary'],['sing','canary'],['canary','yellow']]\n",
    "def check(str, factOb):\n",
    "    facts=[]\n",
    "    flag=True\n",
    "    while flag==True:\n",
    "        flag=False\n",
    "        for txt in str:\n",
    "            for A1 in factOb:\n",
    "                if A1[0] == txt:\n",
    "                    tmp = [txt,A1[1]]\n",
    "                    if not tmp in facts:\n",
    "                        facts += [tmp]\n",
    "                        str += A1[1]\n",
    "                        flag = True\n",
    "    return facts\n",
    "result = check(['sing', 'canary'], factskw)\n",
    "print(result)"
   ]
  },
  {
   "cell_type": "markdown",
   "id": "d1e733b6",
   "metadata": {},
   "source": [
    "##### Backward Chaining"
   ]
  },
  {
   "cell_type": "code",
   "execution_count": 2,
   "id": "5de0603a",
   "metadata": {},
   "outputs": [
    {
     "name": "stdout",
     "output_type": "stream",
     "text": [
      "Processing goal: C\n",
      "Found a rule with goal in its Chaining:\n",
      "A->('C',)\n",
      "Found a rule with goal in its Chaining:\n",
      "B->('C',)\n"
     ]
    },
    {
     "data": {
      "text/plain": [
       "True"
      ]
     },
     "execution_count": 2,
     "metadata": {},
     "output_type": "execute_result"
    }
   ],
   "source": [
    "class Rule:\n",
    "    def __init__(self, conclusion, *premises):\n",
    "        self.conclusion = conclusion\n",
    "        self.premises = premises\n",
    "def backward_chaining(goal, rules):\n",
    "    agenda = [goal]\n",
    "    while agenda:\n",
    "        goal = agenda.pop(0)\n",
    "        print(\"Processing goal:\", goal)\n",
    "        found = False\n",
    "        for rule in rules:\n",
    "            if goal in rule.premises:\n",
    "                print(\"Found a rule with goal in its Chaining:\")\n",
    "                print(rule.conclusion, rule.premises, sep='->')\n",
    "                found = True\n",
    "                for premise in rule.premises:\n",
    "                    if premise not in agenda:\n",
    "                        agenda.append(premise)\n",
    "        if not found:\n",
    "            print(\"No rules found for:\", goal)\n",
    "            return False\n",
    "        return True\n",
    "# Example usage\n",
    "rules = [Rule(\"A\", \"C\"), Rule(\"B\", \"C\"), Rule(\"C\", \"D\")]\n",
    "backward_chaining(\"C\", rules)\n",
    "# Output: True"
   ]
  },
  {
   "cell_type": "code",
   "execution_count": null,
   "id": "5c1ddc9e",
   "metadata": {},
   "outputs": [],
   "source": []
  }
 ],
 "metadata": {
  "kernelspec": {
   "display_name": "Python 3 (ipykernel)",
   "language": "python",
   "name": "python3"
  },
  "language_info": {
   "codemirror_mode": {
    "name": "ipython",
    "version": 3
   },
   "file_extension": ".py",
   "mimetype": "text/x-python",
   "name": "python",
   "nbconvert_exporter": "python",
   "pygments_lexer": "ipython3",
   "version": "3.9.13"
  }
 },
 "nbformat": 4,
 "nbformat_minor": 5
}
