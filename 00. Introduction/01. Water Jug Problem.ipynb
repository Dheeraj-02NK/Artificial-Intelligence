{
 "cells": [
  {
   "cell_type": "markdown",
   "id": "96b1fccd",
   "metadata": {},
   "source": [
    "#### 1. Implement and Demonstrate Depth First Search Algorithm on Water Jug Problem"
   ]
  },
  {
   "cell_type": "code",
   "execution_count": 1,
   "id": "417dc08d",
   "metadata": {},
   "outputs": [
    {
     "name": "stdout",
     "output_type": "stream",
     "text": [
      "path ia as follows :\n",
      "( 0 , 0 )\n",
      "( 5 , 0 )\n",
      "( 5 , 3 )\n",
      "( 0 , 3 )\n",
      "( 3 , 0 )\n",
      "( 3 , 3 )\n",
      "( 5 , 1 )\n",
      "( 0 , 1 )\n",
      "( 1 , 0 )\n",
      "( 1 , 3 )\n",
      "( 4 , 0 )\n"
     ]
    },
    {
     "data": {
      "text/plain": [
       "True"
      ]
     },
     "execution_count": 1,
     "metadata": {},
     "output_type": "execute_result"
    }
   ],
   "source": [
    "from collections import defaultdict\n",
    "visited=defaultdict(lambda:False)\n",
    "j1,j2,l=0,0,0\n",
    "def water_jug_problem(x,y):\n",
    "    global j1,j2,l\n",
    "    if(x==l and y==0) or (x==0 and y==l):\n",
    "        print('(',x,',',y,')',sep=\" \")\n",
    "        return True\n",
    "    if visited[(x,y)]==False:\n",
    "        print('(',x,',',y,')',sep=\" \")\n",
    "        visited[(x,y)]=True\n",
    "        return( water_jug_problem(0,y)  or water_jug_problem(x,0) or\n",
    "                water_jug_problem(j1,y) or water_jug_problem(x,j2)or\n",
    "                water_jug_problem(x+min(y,(j1-x)),y-min(y,(j1-x)))or\n",
    "                water_jug_problem(x-min(x,(j2-y)),y+min(x,(j2-y))))\n",
    "    else:\n",
    "        return False\n",
    "j1,j2,l=5,3,4\n",
    "print(\"path ia as follows :\")\n",
    "water_jug_problem(0,0)"
   ]
  },
  {
   "cell_type": "code",
   "execution_count": null,
   "id": "acb53cfe",
   "metadata": {},
   "outputs": [],
   "source": []
  }
 ],
 "metadata": {
  "kernelspec": {
   "display_name": "Python 3 (ipykernel)",
   "language": "python",
   "name": "python3"
  },
  "language_info": {
   "codemirror_mode": {
    "name": "ipython",
    "version": 3
   },
   "file_extension": ".py",
   "mimetype": "text/x-python",
   "name": "python",
   "nbconvert_exporter": "python",
   "pygments_lexer": "ipython3",
   "version": "3.9.13"
  }
 },
 "nbformat": 4,
 "nbformat_minor": 5
}
